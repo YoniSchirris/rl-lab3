{
 "cells": [
  {
   "cell_type": "code",
   "execution_count": 1,
   "metadata": {},
   "outputs": [],
   "source": [
    "%matplotlib inline\n",
    "import os\n",
    "import numpy as np\n",
    "import matplotlib.pyplot as plt\n",
    "import sys\n",
    "\n",
    "import torch\n",
    "from torch import nn\n",
    "import torch.nn.functional as F\n",
    "from torch import optim\n",
    "from tqdm import tqdm as _tqdm\n",
    "\n",
    "import random\n",
    "import time\n",
    "from collections import defaultdict\n",
    "\n",
    "def tqdm(*args, **kwargs):\n",
    "    return _tqdm(*args, **kwargs, mininterval=1)  # Safety, do not overflow buffer\n",
    "\n",
    "EPS = float(np.finfo(np.float32).eps)\n",
    "\n",
    "assert sys.version_info[:3] >= (3, 6, 0), \"Make sure you have Python 3.6 installed!\""
   ]
  },
  {
   "cell_type": "code",
   "execution_count": 2,
   "metadata": {},
   "outputs": [
    {
     "name": "stderr",
     "output_type": "stream",
     "text": [
      "/usr/local/Caskroom/miniconda/base/envs/rl2019/lib/python3.7/site-packages/gym/envs/registration.py:14: PkgResourcesDeprecationWarning: Parameters to load are deprecated.  Call .resolve and .require separately.\n",
      "  result = entry_point.load(False)\n"
     ]
    }
   ],
   "source": [
    "import gym\n",
    "env = gym.envs.make(\"CartPole-v0\")"
   ]
  },
  {
   "cell_type": "code",
   "execution_count": 3,
   "metadata": {},
   "outputs": [],
   "source": [
    "# import time\n",
    "# # The nice thing about the CARTPOLE is that it has very nice rendering functionality (if you are on a local environment). Let's have a look at an episode\n",
    "# obs = env.reset()\n",
    "# env.render()\n",
    "# done = False\n",
    "# while not done:\n",
    "#     obs, reward, done, _ = env.step(env.action_space.sample())\n",
    "#     env.render()\n",
    "#     time.sleep(0.05)\n",
    "# env.close()  # Close the environment or you will have a lot of render screens soon"
   ]
  },
  {
   "cell_type": "code",
   "execution_count": 50,
   "metadata": {},
   "outputs": [],
   "source": [
    "class QNetwork(nn.Module):\n",
    "    \n",
    "    def __init__(self, num_s, num_a, num_hidden=128):\n",
    "        nn.Module.__init__(self)\n",
    "        self.l1 = nn.Linear(num_s, num_hidden)\n",
    "        self.l2 = nn.Linear(num_hidden, num_a)\n",
    "\n",
    "    def forward(self, x):\n",
    "        # YOUR CODE HERE\n",
    "        x = F.relu(self.l1(x))\n",
    "        x = self.l2(x)\n",
    "        return x"
   ]
  },
  {
   "cell_type": "code",
   "execution_count": 51,
   "metadata": {},
   "outputs": [],
   "source": [
    "class ReplayMemory:\n",
    "    \n",
    "    def __init__(self, capacity, useTrick=True):\n",
    "        self.capacity = capacity\n",
    "        self.memory = []\n",
    "        # useTrick defines whether or not experience replay is really used\n",
    "        self.useTrick = useTrick\n",
    "\n",
    "    def push(self, transition):\n",
    "        # YOUR CODE HERE\n",
    "        if len(self.memory) >= self.capacity:\n",
    "            # if memory is full we remove the last value and add the new value at beginning\n",
    "            # use a deque next time\n",
    "            self.memory.insert(0, transition)\n",
    "            self.memory = self.memory[:-1]\n",
    "        else:\n",
    "            self.memory.insert(0, transition)\n",
    "\n",
    "    def sample(self, batch_size):\n",
    "        \n",
    "        if self.useTrick:\n",
    "            # random batch\n",
    "            return random.sample(self.memory, batch_size)\n",
    "        else:\n",
    "            # latest batch_size memories\n",
    "            return self.memory[-batch_size:]\n",
    "\n",
    "    def __len__(self):\n",
    "        return len(self.memory)\n",
    "    \n",
    "memory = ReplayMemory(2)\n",
    "memory.push(2)\n",
    "memory.push(3)\n",
    "memory.push(4)\n",
    "assert memory.memory[0] == 4\n",
    "assert memory.memory[1] == 3"
   ]
  },
  {
   "cell_type": "code",
   "execution_count": 52,
   "metadata": {},
   "outputs": [],
   "source": [
    "def get_epsilon(it):\n",
    "    return max(1 - 0.00095*it, 0.05)"
   ]
  },
  {
   "cell_type": "code",
   "execution_count": 53,
   "metadata": {},
   "outputs": [],
   "source": [
    "def select_action(model, state, epsilon):\n",
    "    # YOUR CODE HERE\n",
    "    _rand = random.random()\n",
    "    state = torch.from_numpy(state).float()\n",
    "    if _rand < epsilon:\n",
    "        # random move left (0) or right (1)\n",
    "        return torch.randint(2, (1,)).item()\n",
    "    else:\n",
    "        with torch.no_grad():\n",
    "            return torch.argmax(model(state)).item()\n"
   ]
  },
  {
   "cell_type": "code",
   "execution_count": 54,
   "metadata": {},
   "outputs": [
    {
     "name": "stdout",
     "output_type": "stream",
     "text": [
      "1\n"
     ]
    }
   ],
   "source": [
    "s = env.reset()\n",
    "a = select_action(model, s, 0.05)\n",
    "assert not torch.is_tensor(a)\n",
    "print (a)\n"
   ]
  },
  {
   "cell_type": "code",
   "execution_count": 90,
   "metadata": {},
   "outputs": [],
   "source": [
    "def compute_q_val(model, state, action):\n",
    "    # YOUR CODE HERE\n",
    "    # https://stackoverflow.com/questions/50999977/what-does-the-gather-function-do-in-pytorch-in-layman-terms\n",
    "    # model(state) contains estimated q values from the model\n",
    "    # action contains the action chosen by the model at that point\n",
    "    return model(state).gather(1, action.unsqueeze(1))\n",
    "    \n",
    "    \n",
    "class targetComputer():\n",
    "    def __init__(self, target_network_steps=0):\n",
    "        self.UPDATE_STEPS = target_network_steps\n",
    "        self.target_network_steps = self.UPDATE_STEPS\n",
    "        \n",
    "    def compute_target(self, model, reward, next_state, done, discount_factor):\n",
    "        # done is a boolean (vector) that indicates if next_state is terminal (episode is done)\n",
    "        # YOUR CODE HERE\n",
    "\n",
    "        # only update self.model to given model is target_network_steps = 0\n",
    "        if not hasattr(self, 'model'):\n",
    "            self.model = model\n",
    "        elif self.target_network_steps == 0:\n",
    "            self.model = model\n",
    "            self.target_network_steps = self.UPDATE_STEPS\n",
    "        \n",
    "        max_Q_prime = torch.zeros(next_state.shape[0])  # batch size\n",
    "\n",
    "        # create mask of non-done states\n",
    "        non_final_mask = torch.tensor(tuple(map(lambda s: s != 1, done)), dtype=torch.bool)\n",
    "\n",
    "        # when state is not done we add discount_factor * max() else 0\n",
    "        max_Q_prime[non_final_mask] = torch.max(self.model(next_state[non_final_mask]), 1).values\n",
    "        \n",
    "        self.target_network_steps -= 1\n",
    "\n",
    "        return (reward + discount_factor * max_Q_prime).unsqueeze(1)\n",
    "\n",
    "def train(model, memory, optimizer, batch_size, discount_factor, TargetComputer):\n",
    "    # DO NOT MODIFY THIS FUNCTION\n",
    "    \n",
    "    # don't learn without some decent experience\n",
    "    if len(memory) < batch_size:\n",
    "        return None\n",
    "\n",
    "    # random transition batch is taken from experience replay memory\n",
    "    transitions = memory.sample(batch_size)\n",
    "    \n",
    "    \n",
    "    # transition is a list of 4-tuples, instead we want 4 vectors (as torch.Tensor's)\n",
    "    state, action, reward, next_state, done = zip(*transitions)\n",
    "    \n",
    "    # convert to PyTorch and define types\n",
    "    state = torch.tensor(state, dtype=torch.float)\n",
    "    action = torch.tensor(action, dtype=torch.int64)  # Need 64 bit to use them as index\n",
    "    next_state = torch.tensor(next_state, dtype=torch.float)\n",
    "    reward = torch.tensor(reward, dtype=torch.float)\n",
    "    done = torch.tensor(done, dtype=torch.uint8)  # Boolean\n",
    "    \n",
    "    # compute the q value\n",
    "    q_val = compute_q_val(model, state, action)\n",
    "    \n",
    "    with torch.no_grad():  # Don't compute gradient info for the target (semi-gradient)\n",
    "        target = TargetComputer.compute_target(model, reward, next_state, done, discount_factor)\n",
    "    \n",
    "    # loss is measured from error between current and newly expected Q values\n",
    "    loss = F.smooth_l1_loss(q_val, target)\n",
    "\n",
    "    # backpropagation of loss to t Network (PyTorch magic)\n",
    "    optimizer.zero_grad()\n",
    "    loss.backward()\n",
    "    optimizer.step()\n",
    "    \n",
    "    return loss.item()  # Returns a Python scalar, and releases history (similar to .detach())"
   ]
  },
  {
   "cell_type": "code",
   "execution_count": 91,
   "metadata": {},
   "outputs": [
    {
     "name": "stdout",
     "output_type": "stream",
     "text": [
      "0.0006053225370123982\n"
     ]
    }
   ],
   "source": [
    "# You may want to test your functions individually, but after you do so lets see if the method train works.\n",
    "batch_size = 64\n",
    "discount_factor = 0.8\n",
    "learn_rate = 1e-3\n",
    "# Simple gradient descent may take long, so we will use Adam\n",
    "optimizer = optim.Adam(model.parameters(), learn_rate)\n",
    "\n",
    "# We need a larger memory, fill with dummy data\n",
    "transition = memory.sample(1)[0]\n",
    "memory = ReplayMemory(10 * batch_size)\n",
    "for i in range(batch_size):\n",
    "    memory.push(transition)\n",
    "\n",
    "TargetComputer = targetComputer(target_network_steps=5)    \n",
    "    \n",
    "# Now let's see if it works\n",
    "loss = train(model, memory, optimizer, batch_size, discount_factor, TargetComputer)\n",
    "\n",
    "print (loss)"
   ]
  },
  {
   "cell_type": "code",
   "execution_count": 97,
   "metadata": {},
   "outputs": [],
   "source": [
    "def run_episodes(train, model, memory, env, num_episodes, batch_size, discount_factor, learn_rate, TargetComputer):\n",
    "    \n",
    "    optimizer = optim.Adam(model.parameters(), learn_rate)\n",
    "    \n",
    "    global_steps = 0  # Count the steps (do not reset at episode start, to compute epsilon)\n",
    "    episode_durations = []  #\n",
    "    losses = []\n",
    "    \n",
    "    \n",
    "    for i in tqdm(range(num_episodes)):\n",
    "        # YOUR CODE HERE\n",
    "        # following algo from here: https://drive.google.com/file/d/0BxXI_RttTZAhVUhpbDhiSUFFNjg/view\n",
    "        \n",
    "        episode_duration = 0\n",
    "        s = env.reset()\n",
    "        while True:\n",
    "            # a = select_action(model, s, -10); # print('Careful: running with all random action selection') # epsilon-greedy select action\n",
    "            a = select_action(model, s, get_epsilon(global_steps)) # epsilon-greedy select action\n",
    "            s_next, r, done, _ = env.step(a)  # execute action a_t in emulator\n",
    "            episode_duration += 1\n",
    "                \n",
    "            memory.push((s, a, r, s_next, done))  # store transition in D\n",
    "            global_steps += 1\n",
    "            s = s_next\n",
    "            if done:\n",
    "                break\n",
    "            loss = train(model, memory, optimizer, batch_size, discount_factor, TargetComputer)\n",
    "            losses.append(loss)\n",
    "        episode_durations.append(episode_duration)\n",
    "    plt.plot(losses[900:])\n",
    "    \n",
    "    return episode_durations"
   ]
  },
  {
   "cell_type": "code",
   "execution_count": 108,
   "metadata": {},
   "outputs": [],
   "source": [
    "# Let's run it!\n",
    "\n",
    "\n",
    "\n",
    "def run_experiment(hyperparams):\n",
    "    \n",
    "    num_episodes = hyperparams['num_episodes']\n",
    "    batch_size = hyperparams['batch_size']\n",
    "    discount_factor = hyperparams['discount_factor']\n",
    "    learn_rate = hyperparams['learn_rate']\n",
    "    memory = hyperparams['memory']\n",
    "    num_hidden = hyperparams['num_hidden']\n",
    "    seed = hyperparams['seed']\n",
    "    target_network_steps = hyperparams['target_network_steps']\n",
    "\n",
    "    # We will seed the algorithm (before initializing QNetwork!) for reproducability\n",
    "    random.seed(seed)\n",
    "    torch.manual_seed(seed)\n",
    "    env.seed(seed)\n",
    "\n",
    "    model = QNetwork(num_hidden=num_hidden, num_a=2, num_s=4)\n",
    "\n",
    "    TargetComputer = targetComputer(target_network_steps=target_network_steps)\n",
    "\n",
    "    episode_durations = run_episodes(train, model, memory, env, num_episodes, batch_size, discount_factor, learn_rate, TargetComputer)\n",
    "\n",
    "    # And see the results\n",
    "    def smooth(x, N):\n",
    "        cumsum = np.cumsum(np.insert(x, 0, 0)) \n",
    "        return (cumsum[N:] - cumsum[:-N]) / float(N)\n",
    "    plt.figure()\n",
    "    plt.plot(smooth(episode_durations, 10))\n",
    "    plt.title('Episode durations per episode')"
   ]
  },
  {
   "cell_type": "code",
   "execution_count": 109,
   "metadata": {},
   "outputs": [
    {
     "name": "stderr",
     "output_type": "stream",
     "text": [
      "\n",
      "  0%|          | 0/100 [00:00<?, ?it/s]\u001b[A\n",
      " 41%|████      | 41/100 [00:01<00:01, 38.65it/s]\u001b[A\n",
      " 53%|█████▎    | 53/100 [00:03<00:03, 12.85it/s]\u001b[A\n",
      " 63%|██████▎   | 63/100 [00:05<00:04,  8.34it/s]\u001b[A\n",
      " 72%|███████▏  | 72/100 [00:07<00:04,  6.72it/s]\u001b[A\n",
      " 80%|████████  | 80/100 [00:09<00:03,  5.70it/s]\u001b[A\n",
      " 87%|████████▋ | 87/100 [00:10<00:02,  5.37it/s]\u001b[A\n",
      " 93%|█████████▎| 93/100 [00:12<00:01,  5.21it/s]\u001b[A\n",
      " 99%|█████████▉| 99/100 [00:13<00:00,  4.86it/s]\u001b[A\n",
      "100%|██████████| 100/100 [00:13<00:00,  7.23it/s]\u001b[A"
     ]
    },
    {
     "data": {
      "image/png": "[encoded data removed]",
      "text/plain": [
       "<Figure size 432x288 with 1 Axes>"
      ]
     },
     "metadata": {
      "needs_background": "light"
     },
     "output_type": "display_data"
    },
    {
     "data": {
      "image/png": "[encoded data removed]",
      "text/plain": [
       "<Figure size 432x288 with 1 Axes>"
      ]
     },
     "metadata": {
      "needs_background": "light"
     },
     "output_type": "display_data"
    }
   ],
   "source": [
    "hyperparams = {\n",
    "    'num_episodes':         100,\n",
    "    'batch_size':           64,\n",
    "    'discount_factor':      0.8,\n",
    "    'learn_rate':           1e-3,\n",
    "    'memory':               ReplayMemory(10000, useTrick=True),\n",
    "    'num_hidden':           128,\n",
    "    'seed':                 42,  # This is not randomly chosen\n",
    "    'target_network_steps': 0   # If set to 0, this means we update the target network every step, thus we actually do not use a target network\n",
    "}\n",
    "\n",
    "run_experiment(hyperparams)\n"
   ]
  },
  {
   "cell_type": "code",
   "execution_count": null,
   "metadata": {},
   "outputs": [],
   "source": []
  },
  {
   "cell_type": "code",
   "execution_count": null,
   "metadata": {},
   "outputs": [],
   "source": []
  }
 ],
 "metadata": {
  "kernelspec": {
   "display_name": "Python 3",
   "language": "python",
   "name": "python3"
  },
  "language_info": {
   "codemirror_mode": {
    "name": "ipython",
    "version": 3
   },
   "file_extension": ".py",
   "mimetype": "text/x-python",
   "name": "python",
   "nbconvert_exporter": "python",
   "pygments_lexer": "ipython3",
   "version": "3.7.3"
  }
 },
 "nbformat": 4,
 "nbformat_minor": 2
}
